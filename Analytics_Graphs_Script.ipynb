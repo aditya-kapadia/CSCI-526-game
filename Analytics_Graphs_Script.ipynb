{
 "cells": [
  {
   "cell_type": "code",
   "execution_count": null,
   "id": "24ed20b2",
   "metadata": {},
   "outputs": [],
   "source": [
    "import pandas as pd\n",
    "import matplotlib.pyplot as plt\n",
    "from statistics import mean\n",
    "import math\n",
    "from collections import Counter, defaultdict\n",
    "from statistics import mean"
   ]
  },
  {
   "cell_type": "code",
   "execution_count": 2,
   "id": "3e2bbd8c",
   "metadata": {},
   "outputs": [
    {
     "data": {
      "text/html": [
       "<div>\n",
       "<style scoped>\n",
       "    .dataframe tbody tr th:only-of-type {\n",
       "        vertical-align: middle;\n",
       "    }\n",
       "\n",
       "    .dataframe tbody tr th {\n",
       "        vertical-align: top;\n",
       "    }\n",
       "\n",
       "    .dataframe thead th {\n",
       "        text-align: right;\n",
       "    }\n",
       "</style>\n",
       "<table border=\"1\" class=\"dataframe\">\n",
       "  <thead>\n",
       "    <tr style=\"text-align: right;\">\n",
       "      <th></th>\n",
       "      <th>Timestamp</th>\n",
       "      <th>Session_Id</th>\n",
       "      <th>Brick_Count</th>\n",
       "      <th>Attempts</th>\n",
       "      <th>Level_Number</th>\n",
       "      <th>Collectibles</th>\n",
       "      <th>DeathByEnemy</th>\n",
       "      <th>DeathByFall</th>\n",
       "      <th>TimeTaken</th>\n",
       "    </tr>\n",
       "  </thead>\n",
       "  <tbody>\n",
       "    <tr>\n",
       "      <th>0</th>\n",
       "      <td>10/5/22 0:59</td>\n",
       "      <td>638,005,283,751,846,000.00</td>\n",
       "      <td>4</td>\n",
       "      <td>1</td>\n",
       "      <td>1</td>\n",
       "      <td>3</td>\n",
       "      <td>0</td>\n",
       "      <td>0</td>\n",
       "      <td>NaN</td>\n",
       "    </tr>\n",
       "    <tr>\n",
       "      <th>1</th>\n",
       "      <td>10/5/22 17:33</td>\n",
       "      <td>638,005,880,362,590,000.00</td>\n",
       "      <td>2</td>\n",
       "      <td>1</td>\n",
       "      <td>1</td>\n",
       "      <td>3</td>\n",
       "      <td>0</td>\n",
       "      <td>0</td>\n",
       "      <td>NaN</td>\n",
       "    </tr>\n",
       "    <tr>\n",
       "      <th>2</th>\n",
       "      <td>10/5/22 17:49</td>\n",
       "      <td>638,005,889,516,010,000.00</td>\n",
       "      <td>2</td>\n",
       "      <td>8</td>\n",
       "      <td>2</td>\n",
       "      <td>8</td>\n",
       "      <td>1</td>\n",
       "      <td>6</td>\n",
       "      <td>NaN</td>\n",
       "    </tr>\n",
       "    <tr>\n",
       "      <th>3</th>\n",
       "      <td>10/5/22 18:32</td>\n",
       "      <td>638,005,915,754,711,000.00</td>\n",
       "      <td>1</td>\n",
       "      <td>2</td>\n",
       "      <td>1</td>\n",
       "      <td>2</td>\n",
       "      <td>0</td>\n",
       "      <td>1</td>\n",
       "      <td>NaN</td>\n",
       "    </tr>\n",
       "    <tr>\n",
       "      <th>4</th>\n",
       "      <td>10/5/22 18:32</td>\n",
       "      <td>638,005,915,757,548,000.00</td>\n",
       "      <td>0</td>\n",
       "      <td>1</td>\n",
       "      <td>2</td>\n",
       "      <td>0</td>\n",
       "      <td>0</td>\n",
       "      <td>0</td>\n",
       "      <td>NaN</td>\n",
       "    </tr>\n",
       "    <tr>\n",
       "      <th>...</th>\n",
       "      <td>...</td>\n",
       "      <td>...</td>\n",
       "      <td>...</td>\n",
       "      <td>...</td>\n",
       "      <td>...</td>\n",
       "      <td>...</td>\n",
       "      <td>...</td>\n",
       "      <td>...</td>\n",
       "      <td>...</td>\n",
       "    </tr>\n",
       "    <tr>\n",
       "      <th>1579</th>\n",
       "      <td>11/22/22 11:22</td>\n",
       "      <td>6.38047E+17</td>\n",
       "      <td>1</td>\n",
       "      <td>6</td>\n",
       "      <td>6</td>\n",
       "      <td>6</td>\n",
       "      <td>3</td>\n",
       "      <td>3</td>\n",
       "      <td>6.84629568999999946755e+01</td>\n",
       "    </tr>\n",
       "    <tr>\n",
       "      <th>1580</th>\n",
       "      <td>11/22/22 11:53</td>\n",
       "      <td>6.38047E+17</td>\n",
       "      <td>1</td>\n",
       "      <td>18</td>\n",
       "      <td>6</td>\n",
       "      <td>3</td>\n",
       "      <td>4</td>\n",
       "      <td>17</td>\n",
       "      <td>6.60327400000000039881e+01</td>\n",
       "    </tr>\n",
       "    <tr>\n",
       "      <th>1581</th>\n",
       "      <td>11/22/22 11:54</td>\n",
       "      <td>6.38047E+17</td>\n",
       "      <td>0</td>\n",
       "      <td>6</td>\n",
       "      <td>6</td>\n",
       "      <td>3</td>\n",
       "      <td>0</td>\n",
       "      <td>6</td>\n",
       "      <td>3.16326320000000009713e+01</td>\n",
       "    </tr>\n",
       "    <tr>\n",
       "      <th>1582</th>\n",
       "      <td>11/22/22 12:00</td>\n",
       "      <td>6.38047E+17</td>\n",
       "      <td>2</td>\n",
       "      <td>1</td>\n",
       "      <td>1</td>\n",
       "      <td>2</td>\n",
       "      <td>0</td>\n",
       "      <td>0</td>\n",
       "      <td>6.38047152100000000000e+10</td>\n",
       "    </tr>\n",
       "    <tr>\n",
       "      <th>1583</th>\n",
       "      <td>11/22/22 12:00</td>\n",
       "      <td>6.38047E+17</td>\n",
       "      <td>2</td>\n",
       "      <td>1</td>\n",
       "      <td>2</td>\n",
       "      <td>3</td>\n",
       "      <td>0</td>\n",
       "      <td>0</td>\n",
       "      <td>1.49487160000000010029e+01</td>\n",
       "    </tr>\n",
       "  </tbody>\n",
       "</table>\n",
       "<p>1584 rows × 9 columns</p>\n",
       "</div>"
      ],
      "text/plain": [
       "           Timestamp                  Session_Id  Brick_Count  Attempts  \\\n",
       "0       10/5/22 0:59  638,005,283,751,846,000.00            4         1   \n",
       "1      10/5/22 17:33  638,005,880,362,590,000.00            2         1   \n",
       "2      10/5/22 17:49  638,005,889,516,010,000.00            2         8   \n",
       "3      10/5/22 18:32  638,005,915,754,711,000.00            1         2   \n",
       "4      10/5/22 18:32  638,005,915,757,548,000.00            0         1   \n",
       "...              ...                         ...          ...       ...   \n",
       "1579  11/22/22 11:22                 6.38047E+17            1         6   \n",
       "1580  11/22/22 11:53                 6.38047E+17            1        18   \n",
       "1581  11/22/22 11:54                 6.38047E+17            0         6   \n",
       "1582  11/22/22 12:00                 6.38047E+17            2         1   \n",
       "1583  11/22/22 12:00                 6.38047E+17            2         1   \n",
       "\n",
       "     Level_Number  Collectibles  DeathByEnemy  DeathByFall  \\\n",
       "0               1             3             0            0   \n",
       "1               1             3             0            0   \n",
       "2               2             8             1            6   \n",
       "3               1             2             0            1   \n",
       "4               2             0             0            0   \n",
       "...           ...           ...           ...          ...   \n",
       "1579            6             6             3            3   \n",
       "1580            6             3             4           17   \n",
       "1581            6             3             0            6   \n",
       "1582            1             2             0            0   \n",
       "1583            2             3             0            0   \n",
       "\n",
       "                       TimeTaken  \n",
       "0                            NaN  \n",
       "1                            NaN  \n",
       "2                            NaN  \n",
       "3                            NaN  \n",
       "4                            NaN  \n",
       "...                          ...  \n",
       "1579  6.84629568999999946755e+01  \n",
       "1580  6.60327400000000039881e+01  \n",
       "1581  3.16326320000000009713e+01  \n",
       "1582  6.38047152100000000000e+10  \n",
       "1583  1.49487160000000010029e+01  \n",
       "\n",
       "[1584 rows x 9 columns]"
      ]
     },
     "execution_count": 2,
     "metadata": {},
     "output_type": "execute_result"
    }
   ],
   "source": [
    "pd.set_option(\"display.precision\", 20)\n",
    "sheet = pd.read_csv('metrics.csv')\n",
    "sheet"
   ]
  },
  {
   "cell_type": "code",
   "execution_count": 72,
   "id": "e4e2c181",
   "metadata": {},
   "outputs": [],
   "source": [
    "brc = defaultdict(list)\n",
    "att = defaultdict(list)\n",
    "coll = defaultdict(list)\n",
    "dbe = defaultdict(list)\n",
    "dbf = defaultdict(list)\n",
    "tt = defaultdict(list)"
   ]
  },
  {
   "cell_type": "code",
   "execution_count": 73,
   "id": "e154cb15",
   "metadata": {},
   "outputs": [],
   "source": [
    "# for i in range(len(sheet)):\n",
    "#     lvl = sheet['Level_Number'].iloc[i]\n",
    "#     if lvl.isdigit():\n",
    "#         if 1<=int(lvl)<=6:\n",
    "#             if not math.isnan(sheet['Brick_Count'].iloc[i]):\n",
    "#                 if sheet['Brick_Count'].iloc[i]>0:\n",
    "#                     brc[lvl].append(sheet['Brick_Count'].iloc[i])\n",
    "#             if not math.isnan(sheet['Attempts'].iloc[i]):\n",
    "#                 att[lvl].append(sheet['Attempts'].iloc[i])\n",
    "#             if not math.isnan(sheet['Collectibles'].iloc[i]):\n",
    "#                 coll[lvl].append(sheet['Collectibles'].iloc[i])\n",
    "#             if not math.isnan(sheet['DeathByEnemy'].iloc[i]):\n",
    "#                 dbe[lvl].append(sheet['DeathByEnemy'].iloc[i])\n",
    "#             if not math.isnan(sheet['DeathByFall'].iloc[i]):\n",
    "#                 dbf[lvl].append(sheet['DeathByFall'].iloc[i])\n",
    "#             if not math.isnan(sheet['TimeTaken'].iloc[i]):\n",
    "#                 if 0<sheet['TimeTaken'].iloc[i] < 2000:\n",
    "#                     tt[lvl].append(sheet['TimeTaken'].iloc[i])\n",
    "for i in range(len(sheet)):\n",
    "    lvl = sheet['Level_Number'].iloc[i]\n",
    "    # if lvl.isdigit():\n",
    "    if not isinstance(lvl, float):\n",
    "        if lvl.isdigit() and 1<=int(lvl)<=6:\n",
    "            if not math.isnan(sheet['Brick_Count'].iloc[i]):\n",
    "                if sheet['Brick_Count'].iloc[i]>0:\n",
    "                    brc[lvl].append(sheet['Brick_Count'].iloc[i])\n",
    "            if not math.isnan(sheet['Attempts'].iloc[i]):\n",
    "                att[lvl].append(sheet['Attempts'].iloc[i])\n",
    "            if not math.isnan(sheet['Collectibles'].iloc[i]):\n",
    "                coll[lvl].append(sheet['Collectibles'].iloc[i])\n",
    "            if not math.isnan(sheet['DeathByEnemy'].iloc[i]):\n",
    "                dbe[lvl].append(sheet['DeathByEnemy'].iloc[i])\n",
    "            if not math.isnan(sheet['DeathByFall'].iloc[i]):\n",
    "                dbf[lvl].append(sheet['DeathByFall'].iloc[i])\n",
    "            if not math.isnan(sheet['TimeTaken'].iloc[i]):\n",
    "                if 0<sheet['TimeTaken'].iloc[i] < 2000:\n",
    "                    tt[lvl].append(sheet['TimeTaken'].iloc[i])"
   ]
  },
  {
   "cell_type": "code",
   "execution_count": 82,
   "id": "63536860",
   "metadata": {},
   "outputs": [],
   "source": [
    "avgbrc = []\n",
    "avgatt = []\n",
    "avgcoll = []\n",
    "avgdbe = []\n",
    "avgdbf = []\n",
    "avgtt = []\n",
    "lvlscount = []\n",
    "lvlsreached = Counter(sheet['Level_Number'])\n",
    "for i in range(1,7):\n",
    "    avgbrc.append(round(sum(brc[str(i)])/len(brc[str(i)]),2))\n",
    "    avgatt.append(round(sum(att[str(i)])/len(att[str(i)]),2))\n",
    "    avgcoll.append(round(sum(coll[str(i)])/len(coll[str(i)]),2))\n",
    "    avgdbe.append(round(sum(dbe[str(i)])/len(dbe[str(i)]),2))\n",
    "    avgdbf.append(round(sum(dbf[str(i)])/len(dbf[str(i)]),2))\n",
    "    avgtt.append(round(sum(tt[str(i)])/len(tt[str(i)]),2))\n",
    "    lvlscount.append(lvlsreached[str(i)])"
   ]
  },
  {
   "cell_type": "code",
   "execution_count": 75,
   "id": "210b214e",
   "metadata": {},
   "outputs": [
    {
     "data": {
      "image/png": "[encoded data removed]",
      "text/plain": [
       "<Figure size 432x288 with 1 Axes>"
      ]
     },
     "metadata": {
      "needs_background": "light"
     },
     "output_type": "display_data"
    }
   ],
   "source": [
    "plt.bar([i for i in range(1,7)], avgatt, width = 0.4, edgecolor=\"white\")\n",
    "plt.xlabel(\"Level Number\")\n",
    "plt.ylabel(\"Average Attempts Taken\")\n",
    "plt.title(\"Attempts Taken per Level\")\n",
    "plt.xticks([1,2,3,4,5,6])\n",
    "plt.show()"
   ]
  },
  {
   "cell_type": "code",
   "execution_count": 76,
   "id": "43c56e57",
   "metadata": {},
   "outputs": [
    {
     "data": {
      "image/png": "[encoded data removed]",
      "text/plain": [
       "<Figure size 432x288 with 1 Axes>"
      ]
     },
     "metadata": {
      "needs_background": "light"
     },
     "output_type": "display_data"
    }
   ],
   "source": [
    "plt.bar([i for i in range(1,7)], avgbrc, width = 0.4, edgecolor=\"white\")\n",
    "plt.xlabel(\"Level Number\")\n",
    "plt.ylabel(\"Average Bricks Taken\")\n",
    "plt.title(\"Bricks Taken per Level\")\n",
    "plt.xticks([1,2,3,4,5,6])\n",
    "plt.show()"
   ]
  },
  {
   "cell_type": "code",
   "execution_count": 77,
   "id": "a6f397e2",
   "metadata": {},
   "outputs": [
    {
     "data": {
      "image/png": "[encoded data removed]",
      "text/plain": [
       "<Figure size 432x288 with 1 Axes>"
      ]
     },
     "metadata": {
      "needs_background": "light"
     },
     "output_type": "display_data"
    }
   ],
   "source": [
    "plt.bar([i for i in range(1,7)], avgcoll, width = 0.4, edgecolor=\"white\")\n",
    "plt.xlabel(\"Level Number\")\n",
    "plt.ylabel(\"Average Coins Taken\")\n",
    "plt.title(\"Coins Collected per Level\")\n",
    "plt.xticks([1,2,3,4,5,6])\n",
    "plt.show()"
   ]
  },
  {
   "cell_type": "code",
   "execution_count": 78,
   "id": "3d9fe2ee",
   "metadata": {},
   "outputs": [
    {
     "data": {
      "image/png": "[encoded data removed]",
      "text/plain": [
       "<Figure size 432x288 with 1 Axes>"
      ]
     },
     "metadata": {
      "needs_background": "light"
     },
     "output_type": "display_data"
    }
   ],
   "source": [
    "br1 = [i for i in range(1,7)]\n",
    "br2 = [i + 0.25 for i in br1]\n",
    " \n",
    "# Make the plot\n",
    "plt.bar(br1, avgdbe, color ='r', width = 0.25,\n",
    "        edgecolor ='grey', label ='Death by Enemy')\n",
    "plt.bar(br2, avgdbf, color ='g', width = 0.25,\n",
    "        edgecolor ='grey', label ='Death by Fall')\n",
    "plt.xlabel('Level', fontweight ='bold', fontsize = 15)\n",
    "plt.ylabel('Average Deaths Occured', fontweight ='bold', fontsize = 15)\n",
    "plt.xticks([1,2,3,4,5,6])\n",
    "plt.legend()\n",
    "plt.show()"
   ]
  },
  {
   "cell_type": "code",
   "execution_count": 79,
   "id": "911f79d5",
   "metadata": {},
   "outputs": [
    {
     "data": {
      "image/png": "[encoded data removed]",
      "text/plain": [
       "<Figure size 432x288 with 1 Axes>"
      ]
     },
     "metadata": {
      "needs_background": "light"
     },
     "output_type": "display_data"
    }
   ],
   "source": [
    "plt.bar([i for i in range(1,7)], avgtt, width = 0.4, edgecolor=\"white\")\n",
    "plt.xlabel(\"Level Number\")\n",
    "plt.ylabel(\"Average Time Taken\")\n",
    "plt.title(\"Time Taken per Level\")\n",
    "plt.xticks([1,2,3,4,5,6])\n",
    "plt.show()"
   ]
  },
  {
   "cell_type": "code",
   "execution_count": 84,
   "id": "b0087dd3",
   "metadata": {},
   "outputs": [
    {
     "data": {
      "image/png": "[encoded data removed]",
      "text/plain": [
       "<Figure size 432x288 with 1 Axes>"
      ]
     },
     "metadata": {
      "needs_background": "light"
     },
     "output_type": "display_data"
    }
   ],
   "source": [
    "plt.bar([i for i in range(1,7)], lvlscount, width = 0.4, edgecolor=\"white\")\n",
    "plt.xlabel(\"Level Number\")\n",
    "plt.ylabel(\"Number of Users\")\n",
    "plt.title(\"Times Users played each level\")\n",
    "plt.xticks([1,2,3,4,5,6])\n",
    "plt.show()"
   ]
  }
 ],
 "metadata": {
  "kernelspec": {
   "display_name": "Python 3.8.9 64-bit",
   "language": "python",
   "name": "python3"
  },
  "language_info": {
   "codemirror_mode": {
    "name": "ipython",
    "version": 3
   },
   "file_extension": ".py",
   "mimetype": "text/x-python",
   "name": "python",
   "nbconvert_exporter": "python",
   "pygments_lexer": "ipython3",
   "version": "3.8.9"
  },
  "vscode": {
   "interpreter": {
    "hash": "31f2aee4e71d21fbe5cf8b01ff0e069b9275f58929596ceb00d14d90e3e16cd6"
   }
  }
 },
 "nbformat": 4,
 "nbformat_minor": 5
}
