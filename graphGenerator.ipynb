{
 "cells": [
  {
   "cell_type": "code",
   "execution_count": 1,
   "metadata": {},
   "outputs": [],
   "source": [
    "import pandas as pd\n",
    "import matplotlib.pyplot as plt\n",
    "from statistics import mean\n",
    "import math\n",
    "from collections import Counter"
   ]
  },
  {
   "cell_type": "code",
   "execution_count": 8,
   "metadata": {},
   "outputs": [
    {
     "data": {
      "text/html": [
       "<div>\n",
       "<style scoped>\n",
       "    .dataframe tbody tr th:only-of-type {\n",
       "        vertical-align: middle;\n",
       "    }\n",
       "\n",
       "    .dataframe tbody tr th {\n",
       "        vertical-align: top;\n",
       "    }\n",
       "\n",
       "    .dataframe thead th {\n",
       "        text-align: right;\n",
       "    }\n",
       "</style>\n",
       "<table border=\"1\" class=\"dataframe\">\n",
       "  <thead>\n",
       "    <tr style=\"text-align: right;\">\n",
       "      <th></th>\n",
       "      <th>Timestamp</th>\n",
       "      <th>Session_Id</th>\n",
       "      <th>Brick_Count</th>\n",
       "      <th>Attempts</th>\n",
       "      <th>Level_Number</th>\n",
       "      <th>Collectibles</th>\n",
       "      <th>DeathByEnemy</th>\n",
       "      <th>DeathByFall</th>\n",
       "      <th>TimeTaken</th>\n",
       "    </tr>\n",
       "  </thead>\n",
       "  <tbody>\n",
       "    <tr>\n",
       "      <th>0</th>\n",
       "      <td>10/18/2022 17:14:35</td>\n",
       "      <td>6,38,01,71,00,76,45,30,000.00</td>\n",
       "      <td>2</td>\n",
       "      <td>3</td>\n",
       "      <td>1</td>\n",
       "      <td>3</td>\n",
       "      <td>0</td>\n",
       "      <td>2</td>\n",
       "      <td>42.58500000000000085265</td>\n",
       "    </tr>\n",
       "    <tr>\n",
       "      <th>1</th>\n",
       "      <td>10/18/2022 17:30:35</td>\n",
       "      <td>6,38,01,71,10,34,52,00,000.00</td>\n",
       "      <td>2</td>\n",
       "      <td>6</td>\n",
       "      <td>1</td>\n",
       "      <td>3</td>\n",
       "      <td>2</td>\n",
       "      <td>3</td>\n",
       "      <td>60.79999999999999715783</td>\n",
       "    </tr>\n",
       "    <tr>\n",
       "      <th>2</th>\n",
       "      <td>10/18/2022 18:35:28</td>\n",
       "      <td>6,38,01,71,49,27,38,10,000.00</td>\n",
       "      <td>2</td>\n",
       "      <td>2</td>\n",
       "      <td>1</td>\n",
       "      <td>3</td>\n",
       "      <td>1</td>\n",
       "      <td>0</td>\n",
       "      <td>22.55099999999999837996</td>\n",
       "    </tr>\n",
       "    <tr>\n",
       "      <th>3</th>\n",
       "      <td>10/18/2022 18:35:57</td>\n",
       "      <td>6,38,01,71,49,56,33,10,000.00</td>\n",
       "      <td>2</td>\n",
       "      <td>2</td>\n",
       "      <td>2</td>\n",
       "      <td>6</td>\n",
       "      <td>0</td>\n",
       "      <td>1</td>\n",
       "      <td>27.64999999999999857891</td>\n",
       "    </tr>\n",
       "    <tr>\n",
       "      <th>4</th>\n",
       "      <td>10/18/2022 18:39:47</td>\n",
       "      <td>6,38,01,71,51,86,40,70,000.00</td>\n",
       "      <td>2</td>\n",
       "      <td>7</td>\n",
       "      <td>1</td>\n",
       "      <td>3</td>\n",
       "      <td>3</td>\n",
       "      <td>3</td>\n",
       "      <td>41.69300000000000494538</td>\n",
       "    </tr>\n",
       "    <tr>\n",
       "      <th>...</th>\n",
       "      <td>...</td>\n",
       "      <td>...</td>\n",
       "      <td>...</td>\n",
       "      <td>...</td>\n",
       "      <td>...</td>\n",
       "      <td>...</td>\n",
       "      <td>...</td>\n",
       "      <td>...</td>\n",
       "      <td>...</td>\n",
       "    </tr>\n",
       "    <tr>\n",
       "      <th>299</th>\n",
       "      <td>10/24/2022 14:31:47</td>\n",
       "      <td>6,38,02,21,87,03,35,90,000.00</td>\n",
       "      <td>2</td>\n",
       "      <td>7</td>\n",
       "      <td>2</td>\n",
       "      <td>3</td>\n",
       "      <td>2</td>\n",
       "      <td>4</td>\n",
       "      <td>57.44899999999999806732</td>\n",
       "    </tr>\n",
       "    <tr>\n",
       "      <th>300</th>\n",
       "      <td>10/24/2022 14:34:07</td>\n",
       "      <td>6,38,02,21,88,43,58,30,000.00</td>\n",
       "      <td>2</td>\n",
       "      <td>12</td>\n",
       "      <td>2</td>\n",
       "      <td>5</td>\n",
       "      <td>0</td>\n",
       "      <td>11</td>\n",
       "      <td>138.36500000000000909495</td>\n",
       "    </tr>\n",
       "    <tr>\n",
       "      <th>301</th>\n",
       "      <td>10/24/2022 14:34:59</td>\n",
       "      <td>6,38,02,21,88,95,55,60,000.00</td>\n",
       "      <td>2</td>\n",
       "      <td>8</td>\n",
       "      <td>2</td>\n",
       "      <td>4</td>\n",
       "      <td>0</td>\n",
       "      <td>7</td>\n",
       "      <td>44.49499999999999744205</td>\n",
       "    </tr>\n",
       "    <tr>\n",
       "      <th>302</th>\n",
       "      <td>10/24/2022 14:36:13</td>\n",
       "      <td>6,38,02,21,89,72,76,30,000.00</td>\n",
       "      <td>4</td>\n",
       "      <td>6</td>\n",
       "      <td>1</td>\n",
       "      <td>2</td>\n",
       "      <td>1</td>\n",
       "      <td>4</td>\n",
       "      <td>61.83299999999999840838</td>\n",
       "    </tr>\n",
       "    <tr>\n",
       "      <th>303</th>\n",
       "      <td>10/24/2022 14:38:28</td>\n",
       "      <td>6,38,02,21,91,07,14,60,000.00</td>\n",
       "      <td>1</td>\n",
       "      <td>3</td>\n",
       "      <td>3</td>\n",
       "      <td>2</td>\n",
       "      <td>0</td>\n",
       "      <td>2</td>\n",
       "      <td>24.58500000000000085265</td>\n",
       "    </tr>\n",
       "  </tbody>\n",
       "</table>\n",
       "<p>304 rows × 9 columns</p>\n",
       "</div>"
      ],
      "text/plain": [
       "               Timestamp                     Session_Id  Brick_Count  \\\n",
       "0    10/18/2022 17:14:35  6,38,01,71,00,76,45,30,000.00            2   \n",
       "1    10/18/2022 17:30:35  6,38,01,71,10,34,52,00,000.00            2   \n",
       "2    10/18/2022 18:35:28  6,38,01,71,49,27,38,10,000.00            2   \n",
       "3    10/18/2022 18:35:57  6,38,01,71,49,56,33,10,000.00            2   \n",
       "4    10/18/2022 18:39:47  6,38,01,71,51,86,40,70,000.00            2   \n",
       "..                   ...                            ...          ...   \n",
       "299  10/24/2022 14:31:47  6,38,02,21,87,03,35,90,000.00            2   \n",
       "300  10/24/2022 14:34:07  6,38,02,21,88,43,58,30,000.00            2   \n",
       "301  10/24/2022 14:34:59  6,38,02,21,88,95,55,60,000.00            2   \n",
       "302  10/24/2022 14:36:13  6,38,02,21,89,72,76,30,000.00            4   \n",
       "303  10/24/2022 14:38:28  6,38,02,21,91,07,14,60,000.00            1   \n",
       "\n",
       "     Attempts  Level_Number  Collectibles  DeathByEnemy  DeathByFall  \\\n",
       "0           3             1             3             0            2   \n",
       "1           6             1             3             2            3   \n",
       "2           2             1             3             1            0   \n",
       "3           2             2             6             0            1   \n",
       "4           7             1             3             3            3   \n",
       "..        ...           ...           ...           ...          ...   \n",
       "299         7             2             3             2            4   \n",
       "300        12             2             5             0           11   \n",
       "301         8             2             4             0            7   \n",
       "302         6             1             2             1            4   \n",
       "303         3             3             2             0            2   \n",
       "\n",
       "                    TimeTaken  \n",
       "0     42.58500000000000085265  \n",
       "1     60.79999999999999715783  \n",
       "2     22.55099999999999837996  \n",
       "3     27.64999999999999857891  \n",
       "4     41.69300000000000494538  \n",
       "..                        ...  \n",
       "299   57.44899999999999806732  \n",
       "300  138.36500000000000909495  \n",
       "301   44.49499999999999744205  \n",
       "302   61.83299999999999840838  \n",
       "303   24.58500000000000085265  \n",
       "\n",
       "[304 rows x 9 columns]"
      ]
     },
     "execution_count": 8,
     "metadata": {},
     "output_type": "execute_result"
    }
   ],
   "source": [
    "pd.set_option(\"display.precision\", 20)\n",
    "sheet = pd.read_csv('metrics.csv')\n",
    "sheet"
   ]
  },
  {
   "cell_type": "code",
   "execution_count": null,
   "metadata": {},
   "outputs": [],
   "source": []
  },
  {
   "cell_type": "code",
   "execution_count": 56,
   "metadata": {},
   "outputs": [],
   "source": [
    "brick_count = sheet['Brick_Count'].to_list()\n",
    "attempts = sheet['Attempts'].to_list()\n",
    "level_no = sheet['Level_Number'].to_list()\n",
    "collectibles = sheet['Collectibles'].to_list()\n",
    "dbenemy = sheet['DeathByEnemy'].to_list()\n",
    "dbfall = sheet['DeathByFall'].to_list()\n",
    "timetaken = sheet['TimeTaken'].to_list()\n",
    "sesh = sheet['Session_Id']\n",
    "highestlevel = {}\n",
    "\n",
    "levels = set(level_no)\n",
    "br = [[] for i in range(len(levels))]\n",
    "at = [[] for i in range(len(levels))]\n",
    "coll = [[] for i in range(len(levels))]\n",
    "dbe = [[] for i in range(len(levels))]\n",
    "dbf = [[] for i in range(len(levels))]\n",
    "tt = [[] for i in range(len(levels))]\n",
    "\n",
    "for i in range(len(brick_count)):\n",
    "    ln = level_no[i]\n",
    "    br[ln-1].append(brick_count[i])\n",
    "    at[ln-1].append(attempts[i])\n",
    "    coll[ln-1].append(collectibles[i])\n",
    "    dbe[ln-1].append(dbenemy[i])\n",
    "    dbf[ln-1].append(dbfall[i])\n",
    "    if not math.isnan(timetaken[i]):\n",
    "        tt[ln-1].append(timetaken[i])\n",
    "    highestlevel[sesh[i]] = level_no[i]\n",
    "    \n",
    "newbr = []\n",
    "newat = []\n",
    "newcoll = []\n",
    "newdbe = []\n",
    "newdbf = []\n",
    "newtt = []\n",
    "newsesh = []\n",
    "\n",
    "for i in range(1,len(levels)+1):\n",
    "    newbr.append(int(mean(br[i-1])))\n",
    "    newat.append(int(mean(at[i-1])))\n",
    "    newcoll.append(int(mean(coll[i-1])))\n",
    "    newdbe.append(mean(dbe[i-1]))\n",
    "    newdbf.append(mean(dbf[i-1]))\n",
    "    newtt.append(mean(tt[i-1]))\n",
    "    newsesh.append(Counter(highestlevel.values())[i])"
   ]
  },
  {
   "cell_type": "code",
   "execution_count": 29,
   "metadata": {},
   "outputs": [],
   "source": [
    "# fig = plt.figure(figsize = (10, 5))\n",
    " \n",
    "# plt.bar([i for i in range(1,len(levels)+1)], newbr, width = 0.4, edgecolor=\"white\")\n",
    "# plt.xlabel(\"Level Number\")\n",
    "# plt.ylabel(\"Average Bricks Taken\")\n",
    "# plt.title(\"Bricks Taken per Level\")\n",
    "# plt.show()\n",
    "\n",
    "# plt.bar([i for i in range(1,len(levels)+1)], newat, width = 0.4, edgecolor=\"white\")\n",
    "# plt.xlabel(\"Level Number\")\n",
    "# plt.ylabel(\"Average Attempts Taken\")\n",
    "# plt.title(\"Attempts Taken per Level\")\n",
    "# plt.show()\n",
    "\n",
    "# plt.bar([i for i in range(1,len(levels)+1)], newcoll, width = 0.4, edgecolor=\"white\") \n",
    "# plt.xlabel(\"Level Number\")\n",
    "# plt.ylabel(\"Average Collectibles Taken\")\n",
    "# plt.title(\"Collectibles Taken per Level\")\n",
    "# plt.show()\n",
    "\n",
    "# br1 = [i for i in range(1,len(levels)+1)]\n",
    "# br2 = [i + 0.25 for i in br1]\n",
    " \n",
    "# # Make the plot\n",
    "# plt.bar(br1, newdbe, color ='r', width = 0.25,\n",
    "#         edgecolor ='grey', label ='Death by Enemy')\n",
    "# plt.bar(br2, newdbf, color ='g', width = 0.25,\n",
    "#         edgecolor ='grey', label ='Death by Fall')\n",
    " \n",
    "# # Adding Xticks\n",
    "# plt.xlabel('Level', fontweight ='bold', fontsize = 15)\n",
    "# plt.ylabel('Average Deaths Occured', fontweight ='bold', fontsize = 15)\n",
    " \n",
    "# plt.legend()\n",
    "# plt.show()\n",
    "\n",
    "# plt.bar([i for i in range(1,len(levels)+1)], newtt, width = 0.4, edgecolor=\"white\") \n",
    "# plt.xlabel(\"Level Number\")\n",
    "# plt.ylabel(\"Average Time Taken in seconds\")\n",
    "# plt.title(\"Time Taken per Level\")\n",
    "# plt.show()\n",
    "\n",
    "# plt.bar([i for i in range(1,len(levels)+1)], newsesh, width = 0.4, edgecolor=\"white\") \n",
    "# plt.xlabel(\"Level Number\")\n",
    "# plt.ylabel(\"Number of Users\")\n",
    "# plt.title(\"Levels reached by Users\")\n",
    "# plt.show()"
   ]
  },
  {
   "cell_type": "code",
   "execution_count": null,
   "metadata": {},
   "outputs": [],
   "source": []
  },
  {
   "cell_type": "code",
   "execution_count": 41,
   "metadata": {
    "scrolled": true
   },
   "outputs": [
    {
     "data": {
      "image/png": "[encoded data removed]",
      "text/plain": [
       "<Figure size 432x288 with 1 Axes>"
      ]
     },
     "metadata": {
      "needs_background": "light"
     },
     "output_type": "display_data"
    }
   ],
   "source": [
    "plt.bar([i for i in levels], newat, width = 0.4, edgecolor=\"white\")\n",
    "plt.xlabel(\"Level Number\")\n",
    "plt.ylabel(\"Average Attempts Taken\")\n",
    "plt.title(\"Attempts Taken per Level\")\n",
    "plt.xticks([1,2,3])\n",
    "plt.show()"
   ]
  },
  {
   "cell_type": "code",
   "execution_count": 43,
   "metadata": {},
   "outputs": [
    {
     "data": {
      "image/png": "[encoded data removed]",
      "text/plain": [
       "<Figure size 432x288 with 1 Axes>"
      ]
     },
     "metadata": {
      "needs_background": "light"
     },
     "output_type": "display_data"
    }
   ],
   "source": [
    "plt.bar([i for i in levels], newbr, width = 0.4, edgecolor=\"white\")\n",
    "plt.xlabel(\"Level Number\")\n",
    "plt.ylabel(\"Average Bricks Taken\")\n",
    "plt.title(\"Bricks Taken per Level\")\n",
    "plt.xticks([1,2,3])\n",
    "plt.show()"
   ]
  },
  {
   "cell_type": "code",
   "execution_count": 45,
   "metadata": {},
   "outputs": [
    {
     "data": {
      "image/png": "[encoded data removed]",
      "text/plain": [
       "<Figure size 432x288 with 1 Axes>"
      ]
     },
     "metadata": {
      "needs_background": "light"
     },
     "output_type": "display_data"
    }
   ],
   "source": [
    "plt.bar([i for i in levels], newcoll, width = 0.4, edgecolor=\"white\") \n",
    "plt.xlabel(\"Level Number\")\n",
    "plt.ylabel(\"Average Collectibles Taken\")\n",
    "plt.title(\"Collectibles Taken per Level\")\n",
    "plt.xticks([1,2,3])\n",
    "plt.show()"
   ]
  },
  {
   "cell_type": "code",
   "execution_count": 47,
   "metadata": {},
   "outputs": [
    {
     "data": {
      "image/png": "[encoded data removed]",
      "text/plain": [
       "<Figure size 432x288 with 1 Axes>"
      ]
     },
     "metadata": {
      "needs_background": "light"
     },
     "output_type": "display_data"
    }
   ],
   "source": [
    "br1 = [i for i in levels]\n",
    "br2 = [i + 0.25 for i in br1]\n",
    " \n",
    "# Make the plot\n",
    "plt.bar(br1, newdbe, color ='r', width = 0.25,\n",
    "        edgecolor ='grey', label ='Death by Enemy')\n",
    "plt.bar(br2, newdbf, color ='g', width = 0.25,\n",
    "        edgecolor ='grey', label ='Death by Fall')\n",
    "plt.xlabel('Level', fontweight ='bold', fontsize = 15)\n",
    "plt.ylabel('Average Deaths Occured', fontweight ='bold', fontsize = 15)\n",
    "plt.xticks([1,2,3])\n",
    "plt.legend()\n",
    "plt.show()"
   ]
  },
  {
   "cell_type": "code",
   "execution_count": 48,
   "metadata": {},
   "outputs": [
    {
     "data": {
      "image/png": "[encoded data removed]",
      "text/plain": [
       "<Figure size 432x288 with 1 Axes>"
      ]
     },
     "metadata": {
      "needs_background": "light"
     },
     "output_type": "display_data"
    }
   ],
   "source": [
    "plt.bar([i for i in levels], newtt, width = 0.4, edgecolor=\"white\") \n",
    "plt.xlabel(\"Level Number\")\n",
    "plt.ylabel(\"Average Time Taken in seconds\")\n",
    "plt.title(\"Time Taken per Level\")\n",
    "plt.xticks([1,2,3])\n",
    "plt.show()"
   ]
  },
  {
   "cell_type": "code",
   "execution_count": 49,
   "metadata": {},
   "outputs": [
    {
     "data": {
      "image/png": "[encoded data removed]",
      "text/plain": [
       "<Figure size 432x288 with 1 Axes>"
      ]
     },
     "metadata": {
      "needs_background": "light"
     },
     "output_type": "display_data"
    }
   ],
   "source": [
    "plt.bar([i for i in levels], newsesh, width = 0.4, edgecolor=\"white\") \n",
    "plt.xlabel(\"Level Number\")\n",
    "plt.ylabel(\"Number of Users\")\n",
    "plt.title(\"Levels reached by Users\")\n",
    "plt.xticks([1,2,3])\n",
    "plt.show()"
   ]
  }
 ],
 "metadata": {
  "kernelspec": {
   "display_name": "Python 3",
   "language": "python",
   "name": "python3"
  },
  "language_info": {
   "codemirror_mode": {
    "name": "ipython",
    "version": 3
   },
   "file_extension": ".py",
   "mimetype": "text/x-python",
   "name": "python",
   "nbconvert_exporter": "python",
   "pygments_lexer": "ipython3",
   "version": "3.8.5"
  }
 },
 "nbformat": 4,
 "nbformat_minor": 5
}
